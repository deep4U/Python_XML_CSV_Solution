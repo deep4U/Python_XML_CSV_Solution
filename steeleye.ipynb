{
 "cells": [
  {
   "cell_type": "code",
   "execution_count": 29,
   "metadata": {},
   "outputs": [],
   "source": [
    "import requests \n",
    "import xml.etree.ElementTree as ET \n",
    "import urllib.request\n",
    "from xml.dom import minidom\n",
    "import zipfile\n",
    "import os\n",
    "from xml.etree.ElementTree import XML\n",
    "import csv\n",
    "import boto3\n",
    "from botocore.exceptions import NoCredentialsError"
   ]
  },
  {
   "cell_type": "code",
   "execution_count": null,
   "metadata": {},
   "outputs": [],
   "source": [
    "def download_first_xml(link=\"https://registers.esma.europa.eu/solr/esma_registers_firds_files/select?q=*&fq=publication_date:%5B2020-01-08T00:00:00Z+TO+2020-01-08T23:59:59Z%5D&wt=xml&indent=true&start=0&rows=100\"):\n",
    "    \"\"\" download_first_xml takes link of xml and downloads xml into feed.xml\"\"\"\n",
    "    response = requests.get(link)\n",
    "    with open('feed.xml', 'wb') as file:\n",
    "        file.write(response.content)\n",
    "    file.close()"
   ]
  },
  {
   "cell_type": "code",
   "execution_count": null,
   "metadata": {},
   "outputs": [],
   "source": [
    "def read_first_xml_provide_url(path):\n",
    "    \"\"\" read_first_xml_provide_url takes path and name of xml and parses it to find the download url of first file with DLTINS filetype \"\"\"\n",
    "    itemlist = minidom.parse(path).getElementsByTagName('response')\n",
    "    for f in itemlist:\n",
    "        itemlist1 = f.getElementsByTagName('doc')      \n",
    "    for i in itemlist1:\n",
    "        print(i.getElementsByTagName('str').item(6).attributes['name'].value )\n",
    "        print(i.getElementsByTagName('str').item(6).firstChild.data)\n",
    "        if(i.getElementsByTagName('str').item(6).firstChild.data=='DLTINS'):\n",
    "            print('get the link')\n",
    "            return(i.getElementsByTagName('str').item(1).firstChild.data)"
   ]
  },
  {
   "cell_type": "code",
   "execution_count": null,
   "metadata": {},
   "outputs": [],
   "source": [
    "def download_zip(download_url):\n",
    "    \"\"\" download_zip takes download_url and downloads the zip file xml_inside.zip \"\"\"\n",
    "    read = requests.get(download_url, stream = True,allow_redirects=True) \n",
    "    with open(\"xml_inside.zip\",\"wb\") as xml_inside_zip: \n",
    "        for chunk in read.iter_content(chunk_size=1024): \n",
    "            if chunk: \n",
    "                xml_inside_zip.write(chunk) "
   ]
  },
  {
   "cell_type": "code",
   "execution_count": null,
   "metadata": {},
   "outputs": [],
   "source": [
    "def unzip_getxml():\n",
    "    \"\"\" unzip_getxml extracts the xml file from  xml_inside.zip into targetdir folder\"\"\"    \n",
    "    with zipfile.ZipFile(\"xml_inside.zip\",\"r\") as zip_ref:\n",
    "        zip_ref.extractall(\"targetdir\")"
   ]
  },
  {
   "cell_type": "code",
   "execution_count": null,
   "metadata": {},
   "outputs": [],
   "source": [
    "\n",
    "ACCESS_KEY = 'XXXXXXXXXXXXXXXXXXXXXXX'\n",
    "SECRET_KEY = 'XXXXXXXXXXXXXXXXXXXXXXXXXXXXXXXXXXXXXXXXXXXX'\n",
    "\n",
    "\n",
    "def upload_to_aws(local_file, bucket, s3_file):\n",
    "    \"\"\" upload_to_aws takes local file path and name bucket name and s3_file name and uploads the file into s3 bucket \"\"\"  \n",
    "    s3 = boto3.client('s3', aws_access_key_id=ACCESS_KEY,\n",
    "                      aws_secret_access_key=SECRET_KEY)\n",
    "    try:\n",
    "        s3.upload_file(local_file, bucket, s3_file)\n",
    "        print(\"Upload Successful\")\n",
    "        return True\n",
    "    except FileNotFoundError:\n",
    "        print(\"The file was not found\")\n",
    "        return False\n",
    "    except NoCredentialsError:\n",
    "        print(\"Credentials not available\")\n",
    "        return False\n",
    "\n"
   ]
  },
  {
   "cell_type": "code",
   "execution_count": null,
   "metadata": {
    "scrolled": true
   },
   "outputs": [],
   "source": [
    "def xml_tocsv_uploadaws(zippath='targetdir'):\n",
    "    \"\"\" xml_tocsv_uploadaws takes zippath and checks the extracted xmls to convert to csv files and upload to s3 bucket \"\"\"  \n",
    "    path = zippath\n",
    "\n",
    "    for filename in os.listdir(path):\n",
    "        print(filename)\n",
    "        # Instead of using pandas we are using csv library by referring to code at \n",
    "        #https://medium.com/analytics-vidhya/converting-xml-data-to-csv-format-using-python-3ea09fa18d38\n",
    "        csv_file=open(filename+'.csv','w',newline='',encoding='utf-8')\n",
    "        csv_cursor=csv.writer(csv_file)\n",
    "        col_names=['FinInstrmGnlAttrbts.Id',    'FinInstrmGnlAttrbts.FullNm',    'FinInstrmGnlAttrbts.ClssfctnTp',\n",
    "        'FinInstrmGnlAttrbts.CmmdtyDerivInd',    'FinInstrmGnlAttrbts.NtnlCcy',    'Issr']\n",
    "        csv_cursor.writerow(col_names)\n",
    "        tree = ET.parse(path+'/'+filename)\n",
    "        root = tree.getroot()\n",
    "        for BizData in root:\n",
    "            for Pyld in BizData:\n",
    "                for Document in Pyld:\n",
    "                    for FinInstrmRptgRefDataDltaRpt in Document:\n",
    "                        for FinInstrm in FinInstrmRptgRefDataDltaRpt:\n",
    "                            for ModfdRcrd in FinInstrm:\n",
    "                           #     print(ModfdRcrd)\n",
    "                                if ModfdRcrd.tag[48:]=='Issr':\n",
    "                                    Issr=attrib.text\n",
    "                                    IssrFound=True\n",
    "                     #               print(Issr,'Issr========')\n",
    "                                    if IdFound and FullNmFound and ClssfctnTpFound and CmmdtyDerivIndFound and IssrFound:\n",
    "                                    #    print(Id,IdFound,FullNm,FullNmFound,ClssfctnTp,ClssfctnTpFound,CmmdtyDerivInd,CmmdtyDerivIndFound,NtnlCcy,NtnlCcyFound)\n",
    "                                        csv_cursor.writerow([Id,FullNm,ClssfctnTp,CmmdtyDerivInd,NtnlCcy,Issr])\n",
    "                                        del Id\n",
    "                                        del IdFound\n",
    "                                        del FullNm\n",
    "                                        del FullNmFound\n",
    "                                        del ClssfctnTp\n",
    "                                        del ClssfctnTpFound\n",
    "                                        del CmmdtyDerivInd\n",
    "                                        del CmmdtyDerivIndFound\n",
    "                                        del NtnlCcy\n",
    "                                        del NtnlCcyFound\n",
    "                                        del Issr\n",
    "                                        del IssrFound\n",
    "                                IdFound = FullNmFound = ClssfctnTpFound = CmmdtyDerivIndFound = NtnlCcyFound = IssrFound=False\n",
    "                                for attrib in list(ModfdRcrd):\n",
    "\n",
    "                                  #  print(attrib.tag[48:],attrib.text)\n",
    "                                    tag=attrib.tag[48:]\n",
    "                                    if tag=='Id':\n",
    "                                        Id=attrib.text\n",
    "                              #          print(Id,\" Id\")\n",
    "                                        IdFound=True\n",
    "                                    if tag=='FullNm':\n",
    "                                        FullNm=attrib.text\n",
    "                               #         print(FullNm,'====FullNm')\n",
    "                                        FullNmFound=True\n",
    "                                    if tag=='ClssfctnTp':\n",
    "                                        ClssfctnTp=attrib.text\n",
    "                                        ClssfctnTpFound=True\n",
    "                                #        print(ClssfctnTp,'======ClssfctnTp')\n",
    "                                    if tag=='CmmdtyDerivInd':\n",
    "                                        CmmdtyDerivInd=attrib.text\n",
    "                                 #       print(CmmdtyDerivInd,'=====CmmdtyDerivInd')\n",
    "                                        CmmdtyDerivIndFound=True\n",
    "                                    if tag=='NtnlCcy':\n",
    "                                        NtnlCcy=attrib.text\n",
    "                                  #      print(NtnlCcy,'NtnlCcy==========')\n",
    "                                        NtnlCcyFound=True\n",
    "        csv_file.close()\n",
    "        upload_to_aws(filename+'.csv', 'bucket_name', filename+'.csv')\n"
   ]
  },
  {
   "cell_type": "code",
   "execution_count": null,
   "metadata": {},
   "outputs": [],
   "source": [
    "if __name__ == \"__main__\":\n",
    "    try:\n",
    "        download_first_xml()\n",
    "    except Exception as e:\n",
    "        print(\"download_first_xml    class:\", e.__class__,\"      message:\" ,e.message,\"     args:\" ,e.args)\n",
    "    try:\n",
    "        download_url=read_first_xml_provide_url('feed.xml')\n",
    "    except Exception as e:\n",
    "        print(\"download_first_xml    class:\", e.__class__,\"      message:\" ,e.message,\"     args:\" ,e.args)\n",
    "    try:\n",
    "        download_zip(download_url)\n",
    "    except Exception as e:\n",
    "        print(\"download_first_xml    class:\", e.__class__,\"      message:\" ,e.message,\"     args:\", e.args)\n",
    "    try:\n",
    "        unzip_getxml()\n",
    "    except Exception as e:\n",
    "        print(\"download_first_xml    class:\", e.__class__,\"      message:\" ,e.message,\"     args:\" ,e.args)\n",
    "    try:\n",
    "        xml_tocsv_uploadaws()\n",
    "    except Exception as e:\n",
    "        print(\"download_first_xml    class:\", e.__class__,\"      message:\" ,e.message,\"     args:\", e.args)\n"
   ]
  },
  {
   "cell_type": "code",
   "execution_count": null,
   "metadata": {},
   "outputs": [],
   "source": []
  }
 ],
 "metadata": {
  "kernelspec": {
   "display_name": "Python 3",
   "language": "python",
   "name": "python3"
  },
  "language_info": {
   "codemirror_mode": {
    "name": "ipython",
    "version": 3
   },
   "file_extension": ".py",
   "mimetype": "text/x-python",
   "name": "python",
   "nbconvert_exporter": "python",
   "pygments_lexer": "ipython3",
   "version": "3.7.2"
  }
 },
 "nbformat": 4,
 "nbformat_minor": 2
}
